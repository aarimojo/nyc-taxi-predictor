{
 "cells": [
  {
   "cell_type": "code",
   "execution_count": 1,
   "metadata": {},
   "outputs": [],
   "source": [
    "import geopandas as gpd\n",
    "\n",
    "geo_data = gpd.read_file(r\"D:\\2_Anyone_ML\\Final_proyect\\nyc-taxi-predictor\\NTA map.geojson\")\n"
   ]
  },
  {
   "cell_type": "code",
   "execution_count": 4,
   "metadata": {},
   "outputs": [
    {
     "data": {
      "text/html": [
       "<div>\n",
       "<style scoped>\n",
       "    .dataframe tbody tr th:only-of-type {\n",
       "        vertical-align: middle;\n",
       "    }\n",
       "\n",
       "    .dataframe tbody tr th {\n",
       "        vertical-align: top;\n",
       "    }\n",
       "\n",
       "    .dataframe thead th {\n",
       "        text-align: right;\n",
       "    }\n",
       "</style>\n",
       "<table border=\"1\" class=\"dataframe\">\n",
       "  <thead>\n",
       "    <tr style=\"text-align: right;\">\n",
       "      <th></th>\n",
       "      <th>ntacode</th>\n",
       "      <th>shape_area</th>\n",
       "      <th>ntaname</th>\n",
       "      <th>shape_leng</th>\n",
       "      <th>boroname</th>\n",
       "      <th>borocode</th>\n",
       "      <th>countyfips</th>\n",
       "      <th>geometry</th>\n",
       "    </tr>\n",
       "  </thead>\n",
       "  <tbody>\n",
       "    <tr>\n",
       "      <th>0</th>\n",
       "      <td>BK43</td>\n",
       "      <td>35799637.8103</td>\n",
       "      <td>Midwood</td>\n",
       "      <td>27996.5912736</td>\n",
       "      <td>Brooklyn</td>\n",
       "      <td>3</td>\n",
       "      <td>047</td>\n",
       "      <td>MULTIPOLYGON (((-73.94733 40.62917, -73.94687 ...</td>\n",
       "    </tr>\n",
       "    <tr>\n",
       "      <th>1</th>\n",
       "      <td>BK75</td>\n",
       "      <td>32629833.1149</td>\n",
       "      <td>Bedford</td>\n",
       "      <td>29992.9191744</td>\n",
       "      <td>Brooklyn</td>\n",
       "      <td>3</td>\n",
       "      <td>047</td>\n",
       "      <td>MULTIPOLYGON (((-73.94193 40.70073, -73.94439 ...</td>\n",
       "    </tr>\n",
       "    <tr>\n",
       "      <th>2</th>\n",
       "      <td>BX40</td>\n",
       "      <td>6307283.62202</td>\n",
       "      <td>Fordham South</td>\n",
       "      <td>15878.2729212</td>\n",
       "      <td>Bronx</td>\n",
       "      <td>2</td>\n",
       "      <td>005</td>\n",
       "      <td>MULTIPOLYGON (((-73.89138 40.8617, -73.89106 4...</td>\n",
       "    </tr>\n",
       "    <tr>\n",
       "      <th>3</th>\n",
       "      <td>BK88</td>\n",
       "      <td>54005019.2286</td>\n",
       "      <td>Borough Park</td>\n",
       "      <td>39247.227722</td>\n",
       "      <td>Brooklyn</td>\n",
       "      <td>3</td>\n",
       "      <td>047</td>\n",
       "      <td>MULTIPOLYGON (((-73.97605 40.63128, -73.97717 ...</td>\n",
       "    </tr>\n",
       "    <tr>\n",
       "      <th>4</th>\n",
       "      <td>BK96</td>\n",
       "      <td>32706946.4035</td>\n",
       "      <td>Rugby-Remsen Village</td>\n",
       "      <td>30957.8533949</td>\n",
       "      <td>Brooklyn</td>\n",
       "      <td>3</td>\n",
       "      <td>047</td>\n",
       "      <td>MULTIPOLYGON (((-73.90856 40.6521, -73.90945 4...</td>\n",
       "    </tr>\n",
       "  </tbody>\n",
       "</table>\n",
       "</div>"
      ],
      "text/plain": [
       "  ntacode     shape_area               ntaname     shape_leng  boroname  \\\n",
       "0    BK43  35799637.8103               Midwood  27996.5912736  Brooklyn   \n",
       "1    BK75  32629833.1149               Bedford  29992.9191744  Brooklyn   \n",
       "2    BX40  6307283.62202         Fordham South  15878.2729212     Bronx   \n",
       "3    BK88  54005019.2286          Borough Park   39247.227722  Brooklyn   \n",
       "4    BK96  32706946.4035  Rugby-Remsen Village  30957.8533949  Brooklyn   \n",
       "\n",
       "  borocode countyfips                                           geometry  \n",
       "0        3        047  MULTIPOLYGON (((-73.94733 40.62917, -73.94687 ...  \n",
       "1        3        047  MULTIPOLYGON (((-73.94193 40.70073, -73.94439 ...  \n",
       "2        2        005  MULTIPOLYGON (((-73.89138 40.8617, -73.89106 4...  \n",
       "3        3        047  MULTIPOLYGON (((-73.97605 40.63128, -73.97717 ...  \n",
       "4        3        047  MULTIPOLYGON (((-73.90856 40.6521, -73.90945 4...  "
      ]
     },
     "execution_count": 4,
     "metadata": {},
     "output_type": "execute_result"
    }
   ],
   "source": [
    "geo_data.head()"
   ]
  },
  {
   "cell_type": "code",
   "execution_count": null,
   "metadata": {},
   "outputs": [],
   "source": [
    "import geopandas as gpd\n",
    "from shapely.geometry import Point\n",
    "from geopy.distance import geodesic\n",
    "\n",
    "def get_zone_from_coordinates(lat, lon, geojson_path):\n",
    "    \"\"\"\n",
    "    Determina la zona de Nueva York basada en coordenadas geográficas.\n",
    "    \n",
    "    Args:\n",
    "        lat (float): Latitud de la ubicación.\n",
    "        lon (float): Longitud de la ubicación.\n",
    "        geojson_path (str): Ruta al archivo GeoJSON con las delimitaciones de las zonas.\n",
    "    \n",
    "    Returns:\n",
    "        str: Nombre de la zona correspondiente o un mensaje si no se encuentra.\n",
    "    \"\"\"\n",
    "    # Cargar las zonas desde el archivo GeoJSON\n",
    "    zones = gpd.read_file(geojson_path)\n",
    "    \n",
    "    # Crear un punto a partir de las coordenadas\n",
    "    point = Point(lon, lat)\n",
    "    \n",
    "    # Buscar la zona que contiene el punto\n",
    "    for _, zone in zones.iterrows():\n",
    "        if point.within(zone['geometry']):\n",
    "            return zone['ntaname']  # Aquí usamos 'ntaname' para obtener el nombre de la zona\n",
    "    \n",
    "    return \"Zona no encontrada\"\n"
   ]
  },
  {
   "cell_type": "code",
   "execution_count": 18,
   "metadata": {},
   "outputs": [
    {
     "name": "stdout",
     "output_type": "stream",
     "text": [
      "Kensington-Ocean Parkway\n"
     ]
    }
   ],
   "source": [
    "# Coordenadas de ejemplo\n",
    "lat = 40.63128  # Latitud de Borough Park\n",
    "lon = -73.97605  # Longitud de Borough Park\n",
    "\n",
    "# Ruta al archivo GeoJSON\n",
    "geojson_path = (r\"D:\\2_Anyone_ML\\Final_proyect\\nyc-taxi-predictor\\NTA map.geojson\")\n",
    "\n",
    "# Llamada a la función\n",
    "zone_name = get_zone_from_coordinates(lat, lon, geojson_path)\n",
    "print(zone_name)  # Debería devolver \"Borough Park\" si las coordenadas coinciden.\n"
   ]
  },
  {
   "cell_type": "code",
   "execution_count": 19,
   "metadata": {},
   "outputs": [],
   "source": [
    "def calculate_distance_in_miles(start_coords, end_coords):\n",
    "    \"\"\"\n",
    "    Calcula la distancia en millas entre dos coordenadas geográficas.\n",
    "    \n",
    "    Args:\n",
    "        start_coords (tuple): Coordenadas (lat, lon) del punto de origen.\n",
    "        end_coords (tuple): Coordenadas (lat, lon) del punto de destino.\n",
    "    \n",
    "    Returns:\n",
    "        float: Distancia en millas.\n",
    "    \"\"\"\n",
    "    # Calcular la distancia en kilómetros y convertirla a millas\n",
    "    distance_km = geodesic(start_coords, end_coords).km\n",
    "    distance_miles = distance_km * 0.621371  # Convertir kilómetros a millas\n",
    "    return distance_miles\n"
   ]
  },
  {
   "cell_type": "code",
   "execution_count": 20,
   "metadata": {},
   "outputs": [
    {
     "name": "stdout",
     "output_type": "stream",
     "text": [
      "Zona de origen: SoHo-TriBeCa-Civic Center-Little Italy\n",
      "Zona de destino: Hunters Point-Sunnyside-West Maspeth\n",
      "Distancia en millas: 3.91\n"
     ]
    }
   ],
   "source": [
    "  # Ruta al archivo GeoJSON\n",
    "start_lat, start_lon = 40.7128, -74.0060  # Coordenadas del origen\n",
    "end_lat, end_lon = 40.7306, -73.9352  # Coordenadas del destino\n",
    "\n",
    "# Obtener las zonas de origen y destino\n",
    "start_zone = get_zone_from_coordinates(start_lat, start_lon, geojson_path)\n",
    "end_zone = get_zone_from_coordinates(end_lat, end_lon, geojson_path)\n",
    "\n",
    "# Calcular la distancia en millas\n",
    "distance_miles = calculate_distance_in_miles((start_lat, start_lon), (end_lat, end_lon))\n",
    "\n",
    "# Mostrar resultados\n",
    "print(f\"Zona de origen: {start_zone}\")\n",
    "print(f\"Zona de destino: {end_zone}\")\n",
    "print(f\"Distancia en millas: {distance_miles:.2f}\")"
   ]
  }
 ],
 "metadata": {
  "kernelspec": {
   "display_name": "venv",
   "language": "python",
   "name": "python3"
  },
  "language_info": {
   "codemirror_mode": {
    "name": "ipython",
    "version": 3
   },
   "file_extension": ".py",
   "mimetype": "text/x-python",
   "name": "python",
   "nbconvert_exporter": "python",
   "pygments_lexer": "ipython3",
   "version": "3.10.5"
  }
 },
 "nbformat": 4,
 "nbformat_minor": 2
}
