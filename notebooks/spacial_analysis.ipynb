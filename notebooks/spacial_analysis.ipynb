{
 "cells": [
  {
   "cell_type": "code",
   "execution_count": 2,
   "metadata": {},
   "outputs": [],
   "source": [
    "import os\n",
    "import pandas as pd\n",
    "import matplotlib.pyplot as plt"
   ]
  },
  {
   "cell_type": "code",
   "execution_count": 3,
   "metadata": {},
   "outputs": [],
   "source": [
    "# Specify the directory where the file is located\n",
    "directory = \"../data/processed\"\n",
    "\n",
    "# Find the file with the specific name pattern\n",
    "filename = next(f for f in os.listdir(directory) if f.startswith(\"may_time_cleaned\"))\n",
    "\n",
    "# Construct the full file path\n",
    "file_path = os.path.join(directory, filename)\n",
    "\n",
    "# Read the file using pandas\n",
    "df_may = pd.read_parquet(file_path)"
   ]
  },
  {
   "cell_type": "code",
   "execution_count": 5,
   "metadata": {},
   "outputs": [
    {
     "name": "stdout",
     "output_type": "stream",
     "text": [
      "The shape of the dataframe is (3452950, 20)\n",
      "The name of the columns of the dataframe are Index(['VendorID', 'tpep_pickup_datetime', 'tpep_dropoff_datetime',\n",
      "       'passenger_count', 'trip_distance', 'RatecodeID', 'store_and_fwd_flag',\n",
      "       'PULocationID', 'DOLocationID', 'payment_type', 'fare_amount', 'extra',\n",
      "       'mta_tax', 'tip_amount', 'tolls_amount', 'improvement_surcharge',\n",
      "       'total_amount', 'congestion_surcharge', 'airport_fee', 'diff_time'],\n",
      "      dtype='object')\n"
     ]
    }
   ],
   "source": [
    "print('The shape of the dataframe is', df_may.shape)\n",
    "print('The name of the columns of the dataframe are', df_may.columns)"
   ]
  },
  {
   "cell_type": "code",
   "execution_count": 6,
   "metadata": {},
   "outputs": [
    {
     "data": {
      "text/html": [
       "<div>\n",
       "<style scoped>\n",
       "    .dataframe tbody tr th:only-of-type {\n",
       "        vertical-align: middle;\n",
       "    }\n",
       "\n",
       "    .dataframe tbody tr th {\n",
       "        vertical-align: top;\n",
       "    }\n",
       "\n",
       "    .dataframe thead th {\n",
       "        text-align: right;\n",
       "    }\n",
       "</style>\n",
       "<table border=\"1\" class=\"dataframe\">\n",
       "  <thead>\n",
       "    <tr style=\"text-align: right;\">\n",
       "      <th></th>\n",
       "      <th>VendorID</th>\n",
       "      <th>tpep_pickup_datetime</th>\n",
       "      <th>tpep_dropoff_datetime</th>\n",
       "      <th>passenger_count</th>\n",
       "      <th>trip_distance</th>\n",
       "      <th>RatecodeID</th>\n",
       "      <th>store_and_fwd_flag</th>\n",
       "      <th>PULocationID</th>\n",
       "      <th>DOLocationID</th>\n",
       "      <th>payment_type</th>\n",
       "      <th>fare_amount</th>\n",
       "      <th>extra</th>\n",
       "      <th>mta_tax</th>\n",
       "      <th>tip_amount</th>\n",
       "      <th>tolls_amount</th>\n",
       "      <th>improvement_surcharge</th>\n",
       "      <th>total_amount</th>\n",
       "      <th>congestion_surcharge</th>\n",
       "      <th>airport_fee</th>\n",
       "      <th>diff_time</th>\n",
       "    </tr>\n",
       "  </thead>\n",
       "  <tbody>\n",
       "    <tr>\n",
       "      <th>0</th>\n",
       "      <td>1</td>\n",
       "      <td>2022-05-01 00:00:36</td>\n",
       "      <td>2022-05-01 00:19:18</td>\n",
       "      <td>1.0</td>\n",
       "      <td>4.10</td>\n",
       "      <td>1.0</td>\n",
       "      <td>N</td>\n",
       "      <td>246</td>\n",
       "      <td>151</td>\n",
       "      <td>2</td>\n",
       "      <td>17.0</td>\n",
       "      <td>3.0</td>\n",
       "      <td>0.5</td>\n",
       "      <td>0.00</td>\n",
       "      <td>0.00</td>\n",
       "      <td>0.3</td>\n",
       "      <td>20.80</td>\n",
       "      <td>2.5</td>\n",
       "      <td>0.0</td>\n",
       "      <td>0 days 00:18:42</td>\n",
       "    </tr>\n",
       "    <tr>\n",
       "      <th>1</th>\n",
       "      <td>1</td>\n",
       "      <td>2022-05-01 00:27:44</td>\n",
       "      <td>2022-05-01 00:41:33</td>\n",
       "      <td>1.0</td>\n",
       "      <td>2.30</td>\n",
       "      <td>1.0</td>\n",
       "      <td>N</td>\n",
       "      <td>238</td>\n",
       "      <td>74</td>\n",
       "      <td>2</td>\n",
       "      <td>11.0</td>\n",
       "      <td>3.0</td>\n",
       "      <td>0.5</td>\n",
       "      <td>0.00</td>\n",
       "      <td>0.00</td>\n",
       "      <td>0.3</td>\n",
       "      <td>14.80</td>\n",
       "      <td>2.5</td>\n",
       "      <td>0.0</td>\n",
       "      <td>0 days 00:13:49</td>\n",
       "    </tr>\n",
       "    <tr>\n",
       "      <th>2</th>\n",
       "      <td>1</td>\n",
       "      <td>2022-05-01 00:59:00</td>\n",
       "      <td>2022-05-01 01:14:22</td>\n",
       "      <td>1.0</td>\n",
       "      <td>4.20</td>\n",
       "      <td>1.0</td>\n",
       "      <td>N</td>\n",
       "      <td>163</td>\n",
       "      <td>260</td>\n",
       "      <td>2</td>\n",
       "      <td>15.5</td>\n",
       "      <td>3.0</td>\n",
       "      <td>0.5</td>\n",
       "      <td>0.00</td>\n",
       "      <td>0.00</td>\n",
       "      <td>0.3</td>\n",
       "      <td>19.30</td>\n",
       "      <td>2.5</td>\n",
       "      <td>0.0</td>\n",
       "      <td>0 days 00:15:22</td>\n",
       "    </tr>\n",
       "    <tr>\n",
       "      <th>3</th>\n",
       "      <td>1</td>\n",
       "      <td>2022-05-01 00:48:18</td>\n",
       "      <td>2022-05-01 01:28:02</td>\n",
       "      <td>1.0</td>\n",
       "      <td>0.00</td>\n",
       "      <td>1.0</td>\n",
       "      <td>N</td>\n",
       "      <td>79</td>\n",
       "      <td>182</td>\n",
       "      <td>1</td>\n",
       "      <td>41.2</td>\n",
       "      <td>0.0</td>\n",
       "      <td>0.5</td>\n",
       "      <td>0.00</td>\n",
       "      <td>0.00</td>\n",
       "      <td>0.3</td>\n",
       "      <td>42.00</td>\n",
       "      <td>0.0</td>\n",
       "      <td>0.0</td>\n",
       "      <td>0 days 00:39:44</td>\n",
       "    </tr>\n",
       "    <tr>\n",
       "      <th>4</th>\n",
       "      <td>1</td>\n",
       "      <td>2022-05-01 00:28:26</td>\n",
       "      <td>2022-05-01 00:37:49</td>\n",
       "      <td>1.0</td>\n",
       "      <td>1.60</td>\n",
       "      <td>1.0</td>\n",
       "      <td>N</td>\n",
       "      <td>238</td>\n",
       "      <td>75</td>\n",
       "      <td>1</td>\n",
       "      <td>7.5</td>\n",
       "      <td>3.0</td>\n",
       "      <td>0.5</td>\n",
       "      <td>2.25</td>\n",
       "      <td>0.00</td>\n",
       "      <td>0.3</td>\n",
       "      <td>13.55</td>\n",
       "      <td>2.5</td>\n",
       "      <td>0.0</td>\n",
       "      <td>0 days 00:09:23</td>\n",
       "    </tr>\n",
       "    <tr>\n",
       "      <th>5</th>\n",
       "      <td>2</td>\n",
       "      <td>2022-04-30 23:53:47</td>\n",
       "      <td>2022-05-01 00:05:17</td>\n",
       "      <td>1.0</td>\n",
       "      <td>1.87</td>\n",
       "      <td>1.0</td>\n",
       "      <td>N</td>\n",
       "      <td>249</td>\n",
       "      <td>164</td>\n",
       "      <td>1</td>\n",
       "      <td>9.5</td>\n",
       "      <td>0.5</td>\n",
       "      <td>0.5</td>\n",
       "      <td>2.66</td>\n",
       "      <td>0.00</td>\n",
       "      <td>0.3</td>\n",
       "      <td>15.96</td>\n",
       "      <td>2.5</td>\n",
       "      <td>0.0</td>\n",
       "      <td>0 days 00:11:30</td>\n",
       "    </tr>\n",
       "    <tr>\n",
       "      <th>6</th>\n",
       "      <td>2</td>\n",
       "      <td>2022-05-01 00:07:11</td>\n",
       "      <td>2022-05-01 00:19:24</td>\n",
       "      <td>1.0</td>\n",
       "      <td>3.35</td>\n",
       "      <td>1.0</td>\n",
       "      <td>N</td>\n",
       "      <td>164</td>\n",
       "      <td>112</td>\n",
       "      <td>1</td>\n",
       "      <td>12.5</td>\n",
       "      <td>0.5</td>\n",
       "      <td>0.5</td>\n",
       "      <td>3.43</td>\n",
       "      <td>6.55</td>\n",
       "      <td>0.3</td>\n",
       "      <td>26.28</td>\n",
       "      <td>2.5</td>\n",
       "      <td>0.0</td>\n",
       "      <td>0 days 00:12:13</td>\n",
       "    </tr>\n",
       "    <tr>\n",
       "      <th>7</th>\n",
       "      <td>2</td>\n",
       "      <td>2022-05-01 00:14:38</td>\n",
       "      <td>2022-05-01 00:33:09</td>\n",
       "      <td>2.0</td>\n",
       "      <td>2.58</td>\n",
       "      <td>1.0</td>\n",
       "      <td>N</td>\n",
       "      <td>79</td>\n",
       "      <td>68</td>\n",
       "      <td>1</td>\n",
       "      <td>13.0</td>\n",
       "      <td>0.5</td>\n",
       "      <td>0.5</td>\n",
       "      <td>3.36</td>\n",
       "      <td>0.00</td>\n",
       "      <td>0.3</td>\n",
       "      <td>20.16</td>\n",
       "      <td>2.5</td>\n",
       "      <td>0.0</td>\n",
       "      <td>0 days 00:18:31</td>\n",
       "    </tr>\n",
       "    <tr>\n",
       "      <th>8</th>\n",
       "      <td>2</td>\n",
       "      <td>2022-05-01 00:36:36</td>\n",
       "      <td>2022-05-01 01:07:08</td>\n",
       "      <td>1.0</td>\n",
       "      <td>4.55</td>\n",
       "      <td>1.0</td>\n",
       "      <td>N</td>\n",
       "      <td>68</td>\n",
       "      <td>87</td>\n",
       "      <td>1</td>\n",
       "      <td>20.5</td>\n",
       "      <td>0.5</td>\n",
       "      <td>0.5</td>\n",
       "      <td>4.86</td>\n",
       "      <td>0.00</td>\n",
       "      <td>0.3</td>\n",
       "      <td>29.16</td>\n",
       "      <td>2.5</td>\n",
       "      <td>0.0</td>\n",
       "      <td>0 days 00:30:32</td>\n",
       "    </tr>\n",
       "    <tr>\n",
       "      <th>9</th>\n",
       "      <td>1</td>\n",
       "      <td>2022-05-01 00:17:43</td>\n",
       "      <td>2022-05-01 00:30:32</td>\n",
       "      <td>0.0</td>\n",
       "      <td>2.70</td>\n",
       "      <td>1.0</td>\n",
       "      <td>N</td>\n",
       "      <td>48</td>\n",
       "      <td>145</td>\n",
       "      <td>1</td>\n",
       "      <td>11.5</td>\n",
       "      <td>3.0</td>\n",
       "      <td>0.5</td>\n",
       "      <td>2.00</td>\n",
       "      <td>0.00</td>\n",
       "      <td>0.3</td>\n",
       "      <td>17.30</td>\n",
       "      <td>2.5</td>\n",
       "      <td>0.0</td>\n",
       "      <td>0 days 00:12:49</td>\n",
       "    </tr>\n",
       "  </tbody>\n",
       "</table>\n",
       "</div>"
      ],
      "text/plain": [
       "   VendorID tpep_pickup_datetime tpep_dropoff_datetime  passenger_count  \\\n",
       "0         1  2022-05-01 00:00:36   2022-05-01 00:19:18              1.0   \n",
       "1         1  2022-05-01 00:27:44   2022-05-01 00:41:33              1.0   \n",
       "2         1  2022-05-01 00:59:00   2022-05-01 01:14:22              1.0   \n",
       "3         1  2022-05-01 00:48:18   2022-05-01 01:28:02              1.0   \n",
       "4         1  2022-05-01 00:28:26   2022-05-01 00:37:49              1.0   \n",
       "5         2  2022-04-30 23:53:47   2022-05-01 00:05:17              1.0   \n",
       "6         2  2022-05-01 00:07:11   2022-05-01 00:19:24              1.0   \n",
       "7         2  2022-05-01 00:14:38   2022-05-01 00:33:09              2.0   \n",
       "8         2  2022-05-01 00:36:36   2022-05-01 01:07:08              1.0   \n",
       "9         1  2022-05-01 00:17:43   2022-05-01 00:30:32              0.0   \n",
       "\n",
       "   trip_distance  RatecodeID store_and_fwd_flag  PULocationID  DOLocationID  \\\n",
       "0           4.10         1.0                  N           246           151   \n",
       "1           2.30         1.0                  N           238            74   \n",
       "2           4.20         1.0                  N           163           260   \n",
       "3           0.00         1.0                  N            79           182   \n",
       "4           1.60         1.0                  N           238            75   \n",
       "5           1.87         1.0                  N           249           164   \n",
       "6           3.35         1.0                  N           164           112   \n",
       "7           2.58         1.0                  N            79            68   \n",
       "8           4.55         1.0                  N            68            87   \n",
       "9           2.70         1.0                  N            48           145   \n",
       "\n",
       "   payment_type  fare_amount  extra  mta_tax  tip_amount  tolls_amount  \\\n",
       "0             2         17.0    3.0      0.5        0.00          0.00   \n",
       "1             2         11.0    3.0      0.5        0.00          0.00   \n",
       "2             2         15.5    3.0      0.5        0.00          0.00   \n",
       "3             1         41.2    0.0      0.5        0.00          0.00   \n",
       "4             1          7.5    3.0      0.5        2.25          0.00   \n",
       "5             1          9.5    0.5      0.5        2.66          0.00   \n",
       "6             1         12.5    0.5      0.5        3.43          6.55   \n",
       "7             1         13.0    0.5      0.5        3.36          0.00   \n",
       "8             1         20.5    0.5      0.5        4.86          0.00   \n",
       "9             1         11.5    3.0      0.5        2.00          0.00   \n",
       "\n",
       "   improvement_surcharge  total_amount  congestion_surcharge  airport_fee  \\\n",
       "0                    0.3         20.80                   2.5          0.0   \n",
       "1                    0.3         14.80                   2.5          0.0   \n",
       "2                    0.3         19.30                   2.5          0.0   \n",
       "3                    0.3         42.00                   0.0          0.0   \n",
       "4                    0.3         13.55                   2.5          0.0   \n",
       "5                    0.3         15.96                   2.5          0.0   \n",
       "6                    0.3         26.28                   2.5          0.0   \n",
       "7                    0.3         20.16                   2.5          0.0   \n",
       "8                    0.3         29.16                   2.5          0.0   \n",
       "9                    0.3         17.30                   2.5          0.0   \n",
       "\n",
       "        diff_time  \n",
       "0 0 days 00:18:42  \n",
       "1 0 days 00:13:49  \n",
       "2 0 days 00:15:22  \n",
       "3 0 days 00:39:44  \n",
       "4 0 days 00:09:23  \n",
       "5 0 days 00:11:30  \n",
       "6 0 days 00:12:13  \n",
       "7 0 days 00:18:31  \n",
       "8 0 days 00:30:32  \n",
       "9 0 days 00:12:49  "
      ]
     },
     "execution_count": 6,
     "metadata": {},
     "output_type": "execute_result"
    }
   ],
   "source": [
    "df_may.head(10)"
   ]
  },
  {
   "cell_type": "code",
   "execution_count": 10,
   "metadata": {},
   "outputs": [
    {
     "data": {
      "text/plain": [
       "PULocationID\n",
       "132    174870\n",
       "237    170622\n",
       "236    148771\n",
       "161    136281\n",
       "142    117273\n",
       "        ...  \n",
       "187         1\n",
       "105         1\n",
       "84          1\n",
       "221         1\n",
       "199         1\n",
       "Name: count, Length: 258, dtype: int64"
      ]
     },
     "execution_count": 10,
     "metadata": {},
     "output_type": "execute_result"
    }
   ],
   "source": [
    "df_may['PULocationID'].value_counts()"
   ]
  },
  {
   "cell_type": "markdown",
   "metadata": {},
   "source": [
    "We have 258 different locations where the trips begin"
   ]
  },
  {
   "cell_type": "code",
   "execution_count": 11,
   "metadata": {},
   "outputs": [
    {
     "data": {
      "text/plain": [
       "DOLocationID\n",
       "236    151749\n",
       "237    147355\n",
       "161    127351\n",
       "230    103585\n",
       "170     99929\n",
       "        ...  \n",
       "187        17\n",
       "84         17\n",
       "176        16\n",
       "2           5\n",
       "105         3\n",
       "Name: count, Length: 260, dtype: int64"
      ]
     },
     "execution_count": 11,
     "metadata": {},
     "output_type": "execute_result"
    }
   ],
   "source": [
    "df_may['DOLocationID'].value_counts()"
   ]
  },
  {
   "cell_type": "markdown",
   "metadata": {},
   "source": [
    "We have 260 different locations where the trips end. "
   ]
  },
  {
   "cell_type": "code",
   "execution_count": 12,
   "metadata": {},
   "outputs": [
    {
     "data": {
      "text/plain": [
       "count    3.452950e+06\n",
       "mean     3.598742e+00\n",
       "std      1.774139e+01\n",
       "min      0.000000e+00\n",
       "25%      1.120000e+00\n",
       "50%      1.900000e+00\n",
       "75%      3.600000e+00\n",
       "max      2.944565e+04\n",
       "Name: trip_distance, dtype: float64"
      ]
     },
     "execution_count": 12,
     "metadata": {},
     "output_type": "execute_result"
    }
   ],
   "source": [
    "df_may['trip_distance'].describe()"
   ]
  },
  {
   "cell_type": "markdown",
   "metadata": {},
   "source": [
    "The description of the column 'trip_distance' suggest us the existence of outliers, since the $Q_3$ metric has a much less order than the maximum reported. In order to determine all the outliers present in the data, we apply the three sigma rule. the next cell resume our findings"
   ]
  },
  {
   "cell_type": "code",
   "execution_count": 18,
   "metadata": {},
   "outputs": [
    {
     "name": "stdout",
     "output_type": "stream",
     "text": [
      "There are 0 lower outliers and 207 upper outliers\n"
     ]
    }
   ],
   "source": [
    "mean = df_may['trip_distance'].mean()\n",
    "std_dev = df_may['trip_distance'].std()\n",
    "\n",
    "# Define the bounds\n",
    "lower_bound = mean - 3 * std_dev\n",
    "upper_bound = mean + 3 * std_dev\n",
    "\n",
    "# Filter the dataframe\n",
    "df_outliers_down = df_may[(df_may['trip_distance'] < lower_bound)]\n",
    "df_outliers_up = df_may[(df_may['trip_distance'] > upper_bound)]\n",
    "print(f'There are {df_outliers_down.shape[0]} lower outliers and {df_outliers_up.shape[0]} upper outliers')\n"
   ]
  },
  {
   "cell_type": "markdown",
   "metadata": {},
   "source": [
    "For a quick review of the upper outliers, we present a description for df_outliers_up"
   ]
  },
  {
   "cell_type": "code",
   "execution_count": 20,
   "metadata": {},
   "outputs": [
    {
     "data": {
      "text/plain": [
       "count      207.000000\n",
       "mean       320.942609\n",
       "std       2198.190006\n",
       "min         56.850000\n",
       "25%         59.280000\n",
       "50%         64.170000\n",
       "75%         71.560000\n",
       "max      29445.650000\n",
       "Name: trip_distance, dtype: float64"
      ]
     },
     "execution_count": 20,
     "metadata": {},
     "output_type": "execute_result"
    }
   ],
   "source": [
    "df_outliers_up['trip_distance'].describe()"
   ]
  },
  {
   "cell_type": "markdown",
   "metadata": {},
   "source": [
    "We clean the dataset from these outliers:"
   ]
  },
  {
   "cell_type": "code",
   "execution_count": 40,
   "metadata": {},
   "outputs": [],
   "source": [
    "df_may = df_may[(df_may['trip_distance'] >= lower_bound) & (df_may['trip_distance'] <= upper_bound)]"
   ]
  },
  {
   "cell_type": "markdown",
   "metadata": {},
   "source": [
    "Now, we are interested in finding out if there exist trips that begin and end in the same location. The following cell tell us that, in fact, this fact happens."
   ]
  },
  {
   "cell_type": "code",
   "execution_count": 41,
   "metadata": {},
   "outputs": [
    {
     "name": "stdout",
     "output_type": "stream",
     "text": [
      "There are 3278159 trips from two different locations, and 174584 from the same locations\n"
     ]
    }
   ],
   "source": [
    "a = (df_may['PULocationID']==df_may['DOLocationID']).value_counts()\n",
    "print(f'There are {a.iloc[0]} trips from two different locations, and {a.iloc[1]} from the same locations')"
   ]
  },
  {
   "cell_type": "markdown",
   "metadata": {},
   "source": [
    "For this particular month, the percentage of trips made in the same location is $5.325672\\%$. Now, we are interested in the number of trips made inside a location, and moreover, if the reported trips are more or less uniformly distributed. The following cell resumes this fact"
   ]
  },
  {
   "cell_type": "code",
   "execution_count": 42,
   "metadata": {},
   "outputs": [
    {
     "name": "stdout",
     "output_type": "stream",
     "text": [
      "     PULocationID  number_of_trips  total_fare_amount  total_distance\n",
      "0               1              970           81659.12          578.76\n",
      "1               3                6             226.70           13.64\n",
      "2               4              124            1766.22           75.92\n",
      "3               5                1             170.00            0.00\n",
      "4               6                2              21.45           12.22\n",
      "..            ...              ...                ...             ...\n",
      "238           261              373            6637.73          356.48\n",
      "239           262             1628           12211.69         1224.20\n",
      "240           263             3313           19861.45         2312.27\n",
      "241           264            18706          339357.90        59983.36\n",
      "242           265             1765          163206.66         2448.65\n",
      "\n",
      "[243 rows x 4 columns]\n"
     ]
    }
   ],
   "source": [
    "df_trips_outside = df_may[df_may['PULocationID']!=df_may['DOLocationID']]\n",
    "df_trips_inside =  df_may[df_may['PULocationID']==df_may['DOLocationID']] \n",
    "\n",
    "\n",
    "df_summary_inside = df_trips_inside.groupby('PULocationID').agg(\n",
    "    number_of_trips=('PULocationID', 'size'),      # Count the number of trips\n",
    "    total_fare_amount=('fare_amount', 'sum'),     # Sum of fare amounts\n",
    "    total_distance=('trip_distance', 'sum')       # Sum of distances\n",
    ").reset_index()\n",
    "\n",
    "\n",
    "print(df_summary_inside)\n"
   ]
  },
  {
   "cell_type": "code",
   "execution_count": 43,
   "metadata": {},
   "outputs": [
    {
     "data": {
      "text/plain": [
       "count      243.000000\n",
       "mean       718.452675\n",
       "std       2147.012890\n",
       "min          1.000000\n",
       "25%          8.000000\n",
       "50%         23.000000\n",
       "75%        207.000000\n",
       "max      18706.000000\n",
       "Name: number_of_trips, dtype: float64"
      ]
     },
     "execution_count": 43,
     "metadata": {},
     "output_type": "execute_result"
    }
   ],
   "source": [
    "df_summary_inside['number_of_trips'].describe()"
   ]
  },
  {
   "cell_type": "markdown",
   "metadata": {},
   "source": [
    "From the data above, we conclude that the number of trips are very disperse because of the standar deviation metric. Evenmore, although there are 260 locations, we have information of inside trips for 243 ones, so we do not known what happens inside the other 17 locations."
   ]
  },
  {
   "cell_type": "markdown",
   "metadata": {},
   "source": [
    "Respect to the trips between two different locations, the stadistics are the following:"
   ]
  },
  {
   "cell_type": "code",
   "execution_count": 54,
   "metadata": {},
   "outputs": [
    {
     "data": {
      "text/plain": [
       "(257,)"
      ]
     },
     "execution_count": 54,
     "metadata": {},
     "output_type": "execute_result"
    }
   ],
   "source": [
    "df_summary_outside = df_trips_outside['PULocationID'].value_counts()\n",
    "\n",
    "df_summary_outside.shape"
   ]
  },
  {
   "cell_type": "code",
   "execution_count": 50,
   "metadata": {},
   "outputs": [
    {
     "data": {
      "text/plain": [
       "(260,)"
      ]
     },
     "execution_count": 50,
     "metadata": {},
     "output_type": "execute_result"
    }
   ],
   "source": [
    "df_summary_outside = df_trips_outside['DOLocationID'].value_counts()\n",
    "\n",
    "df_summary_outside.shape"
   ]
  },
  {
   "cell_type": "markdown",
   "metadata": {},
   "source": [
    "The discrepance between the last two numbers show us that exist information for trips that begin in 257 locations and end in any of the 260 locations; therefore, we do not have information for trips begin in any of the locations, only for 257 of them."
   ]
  },
  {
   "cell_type": "markdown",
   "metadata": {},
   "source": [
    "We present an histogram of number of trips begin from a set of locations:"
   ]
  },
  {
   "cell_type": "code",
   "execution_count": 57,
   "metadata": {},
   "outputs": [
    {
     "name": "stdout",
     "output_type": "stream",
     "text": [
      "     PULocationID   count\n",
      "0             132  165442\n",
      "1             237  154864\n",
      "2             236  134186\n",
      "3             161  130905\n",
      "4             142  112521\n",
      "..            ...     ...\n",
      "252            84       1\n",
      "253           176       1\n",
      "254           105       1\n",
      "255           221       1\n",
      "256           199       1\n",
      "\n",
      "[257 rows x 2 columns]\n"
     ]
    },
    {
     "data": {
      "image/png": "[encoded data removed]",
      "text/plain": [
       "<Figure size 1000x600 with 1 Axes>"
      ]
     },
     "metadata": {},
     "output_type": "display_data"
    }
   ],
   "source": [
    "df_summary_outside = df_trips_outside['PULocationID'].value_counts().reset_index()\n",
    "\n",
    "# Renaming the columns for clarity\n",
    "df_summary_outside.columns = ['PULocationID', 'count']\n",
    "\n",
    "# Displaying the resulting DataFrame\n",
    "print(df_summary_outside)\n",
    "\n",
    "plt.figure(figsize=(10, 6))  # Set the figure size\n",
    "plt.hist(df_trips_outside['PULocationID'], bins=40, edgecolor='black', alpha=0.7)\n",
    "\n",
    "# Add labels and title\n",
    "plt.xlabel('PULocationID', fontsize=12)\n",
    "plt.ylabel('Number of Trips', fontsize=12)\n",
    "plt.title('Histogram of PULocationID (Grouped in 20 Bins)', fontsize=14)\n",
    "plt.grid(axis='y', linestyle='--', alpha=0.7)\n",
    "\n",
    "# Display the histogram\n",
    "plt.show()"
   ]
  },
  {
   "cell_type": "code",
   "execution_count": 58,
   "metadata": {},
   "outputs": [
    {
     "name": "stdout",
     "output_type": "stream",
     "text": [
      "     DOLocationID   count\n",
      "0             236  137165\n",
      "1             237  131599\n",
      "2             161  121975\n",
      "3             230   99635\n",
      "4             170   96182\n",
      "..            ...     ...\n",
      "255           187      17\n",
      "256            84      17\n",
      "257           176      15\n",
      "258             2       5\n",
      "259           105       3\n",
      "\n",
      "[260 rows x 2 columns]\n"
     ]
    },
    {
     "data": {
      "image/png": "[encoded data removed]",
      "text/plain": [
       "<Figure size 1000x600 with 1 Axes>"
      ]
     },
     "metadata": {},
     "output_type": "display_data"
    }
   ],
   "source": [
    "# Calculate value counts for DOLocationID\n",
    "df_summary_outside_DO = df_trips_outside['DOLocationID'].value_counts().reset_index()\n",
    "\n",
    "# Renaming the columns for clarity\n",
    "df_summary_outside_DO.columns = ['DOLocationID', 'count']\n",
    "\n",
    "# Displaying the resulting DataFrame\n",
    "print(df_summary_outside_DO)\n",
    "\n",
    "# Create the histogram for DOLocationID\n",
    "plt.figure(figsize=(10, 6))  # Set the figure size\n",
    "plt.hist(df_trips_outside['DOLocationID'], bins=40, edgecolor='black', alpha=0.7)\n",
    "\n",
    "# Add labels and title\n",
    "plt.xlabel('DOLocationID', fontsize=12)\n",
    "plt.ylabel('Number of Trips', fontsize=12)\n",
    "plt.title('Histogram of DOLocationID (Grouped in 40 Bins)', fontsize=14)\n",
    "plt.grid(axis='y', linestyle='--', alpha=0.7)\n",
    "\n",
    "# Display the histogram\n",
    "plt.show()\n"
   ]
  },
  {
   "cell_type": "markdown",
   "metadata": {},
   "source": [
    "We save the cleaned data without outliers:"
   ]
  },
  {
   "cell_type": "code",
   "execution_count": 59,
   "metadata": {},
   "outputs": [],
   "source": [
    "original_columns = df_may.columns\n",
    "\n",
    "df_may_cleaned = df_may[original_columns]\n",
    "\n",
    "output_dir = \"../data/processed\"\n",
    "output_file = \"may_spatial_cleaned.parquet\"\n",
    "\n",
    "# Ensure the output directory exists\n",
    "os.makedirs(output_dir, exist_ok=True)\n",
    "\n",
    "# Save the DataFrame in Parquet format\n",
    "df_may_cleaned.to_parquet(os.path.join(output_dir, output_file), index=False)"
   ]
  }
 ],
 "metadata": {
  "kernelspec": {
   "display_name": "testenv",
   "language": "python",
   "name": "python3"
  },
  "language_info": {
   "codemirror_mode": {
    "name": "ipython",
    "version": 3
   },
   "file_extension": ".py",
   "mimetype": "text/x-python",
   "name": "python",
   "nbconvert_exporter": "python",
   "pygments_lexer": "ipython3",
   "version": "3.10.0"
  }
 },
 "nbformat": 4,
 "nbformat_minor": 2
}
