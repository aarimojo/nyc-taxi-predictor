{
 "cells": [
  {
   "cell_type": "code",
   "execution_count": 1,
   "metadata": {},
   "outputs": [],
   "source": [
    "import geopandas as gpd\n",
    "from shapely.geometry import Point\n",
    "from geopy.distance import geodesic\n",
    "\n",
    "def get_zone_from_coordinates(lat, lon, geojson_path):\n",
    "    \"\"\"\n",
    "    Determina la zona de Nueva York basada en coordenadas geográficas.\n",
    "    \n",
    "    Args:\n",
    "        lat (float): Latitud de la ubicación.\n",
    "        lon (float): Longitud de la ubicación.\n",
    "        geojson_path (str): Ruta al archivo GeoJSON con las delimitaciones de las zonas.\n",
    "    \n",
    "    Returns:\n",
    "        str: Nombre de la zona correspondiente o un mensaje si no se encuentra.\n",
    "    \"\"\"\n",
    "    # Cargar las zonas desde el archivo GeoJSON\n",
    "    zones = gpd.read_file(geojson_path)\n",
    "    \n",
    "    # Crear un punto a partir de las coordenadas\n",
    "    point = Point(lon, lat)\n",
    "    \n",
    "    # Buscar la zona que contiene el punto\n",
    "    for _, zone in zones.iterrows():\n",
    "        if point.within(zone['geometry']):\n",
    "            return zone['ntaname']  # Aquí usamos 'ntaname' para obtener el nombre de la zona\n",
    "    \n",
    "    return \"Zona no encontrada\""
   ]
  },
  {
   "cell_type": "code",
   "execution_count": null,
   "metadata": {},
   "outputs": [],
   "source": [
    "# Coordenadas de ejemplo\n",
    "lat = 40.63128  # Latitud de Borough Park\n",
    "lon = -73.97605  # Longitud de Borough Park\n",
    "\n",
    "# Ruta al archivo GeoJSON\n",
    "geojson_path = (\"../data/NTA map.geojson\")\n",
    "\n",
    "# Llamada a la función\n",
    "zone_name = get_zone_from_coordinates(lat, lon, geojson_path)\n",
    "print(zone_name)  # Debería devolver \"Borough Park\" si las coordenadas coinciden."
   ]
  }
 ],
 "metadata": {
  "kernelspec": {
   "display_name": "pfinal",
   "language": "python",
   "name": "python3"
  },
  "language_info": {
   "codemirror_mode": {
    "name": "ipython",
    "version": 3
   },
   "file_extension": ".py",
   "mimetype": "text/x-python",
   "name": "python",
   "nbconvert_exporter": "python",
   "pygments_lexer": "ipython3",
   "version": "3.10.16"
  }
 },
 "nbformat": 4,
 "nbformat_minor": 2
}
