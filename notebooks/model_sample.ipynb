{
 "cells": [
  {
   "cell_type": "code",
   "execution_count": 5,
   "metadata": {},
   "outputs": [
    {
     "name": "stdout",
     "output_type": "stream",
     "text": [
      "Rate = $2.12/km\n",
      "Train RMSE = 1494.94\n",
      "Test RMSE = 1423.48\n"
     ]
    }
   ],
   "source": [
    "import pandas as pd\n",
    "import numpy as np\n",
    "from sklearn.model_selection import train_test_split\n",
    "\n",
    "# Load preprocessed data\n",
    "data = pd.read_parquet('../data/raw/yellow_tripdata_2022-05.parquet')\n",
    "\n",
    "# Ensure trip_distance is not zero to avoid division by zero\n",
    "data = data[data['trip_distance'] > 0]\n",
    "\n",
    "# Split data into train and test sets\n",
    "train, test = train_test_split(data, test_size=0.3, random_state=42)\n",
    "\n",
    "# Calculate the rate (fare amount per km) based on the training data\n",
    "rate = train['fare_amount'].mean() / train['trip_distance'].mean()\n",
    "\n",
    "# Add the fare rate column to the dataset\n",
    "data['fare_rate'] = data['fare_amount'] / data['trip_distance']\n",
    "\n",
    "# Function to compute RMSE\n",
    "def compute_rmse(actual, predicted):\n",
    "    return np.sqrt(np.mean((actual - predicted)**2))\n",
    "\n",
    "# Function to print RMSE for train and test sets\n",
    "def print_rmse(df, rate, name):\n",
    "    predicted_fares = rate * df['trip_distance']\n",
    "    rmse = compute_rmse(df['fare_amount'], predicted_fares)\n",
    "    print(f\"{name} RMSE = {rmse:.2f}\")\n",
    "\n",
    "# Print the calculated rate\n",
    "print(f\"Rate = ${rate:.2f}/km\")\n",
    "\n",
    "# Evaluate RMSE for train and test sets\n",
    "print_rmse(train, rate, 'Train')\n",
    "print_rmse(test, rate, 'Test')\n"
   ]
  },
  {
   "cell_type": "markdown",
   "metadata": {},
   "source": [
    "## XGBoost Regressor"
   ]
  },
  {
   "cell_type": "code",
   "execution_count": null,
   "metadata": {},
   "outputs": [
    {
     "ename": "ModuleNotFoundError",
     "evalue": "No module named 'xgboost'",
     "output_type": "error",
     "traceback": [
      "\u001b[1;31m---------------------------------------------------------------------------\u001b[0m",
      "\u001b[1;31mModuleNotFoundError\u001b[0m                       Traceback (most recent call last)",
      "Cell \u001b[1;32mIn[6], line 4\u001b[0m\n\u001b[0;32m      2\u001b[0m \u001b[38;5;28;01mimport\u001b[39;00m\u001b[38;5;250m \u001b[39m\u001b[38;5;21;01mnumpy\u001b[39;00m\u001b[38;5;250m \u001b[39m\u001b[38;5;28;01mas\u001b[39;00m\u001b[38;5;250m \u001b[39m\u001b[38;5;21;01mnp\u001b[39;00m\n\u001b[0;32m      3\u001b[0m \u001b[38;5;28;01mfrom\u001b[39;00m\u001b[38;5;250m \u001b[39m\u001b[38;5;21;01msklearn\u001b[39;00m\u001b[38;5;21;01m.\u001b[39;00m\u001b[38;5;21;01mmodel_selection\u001b[39;00m\u001b[38;5;250m \u001b[39m\u001b[38;5;28;01mimport\u001b[39;00m train_test_split\n\u001b[1;32m----> 4\u001b[0m \u001b[38;5;28;01mimport\u001b[39;00m\u001b[38;5;250m \u001b[39m\u001b[38;5;21;01mxgboost\u001b[39;00m\u001b[38;5;250m \u001b[39m\u001b[38;5;28;01mas\u001b[39;00m\u001b[38;5;250m \u001b[39m\u001b[38;5;21;01mxgb\u001b[39;00m\n\u001b[0;32m      5\u001b[0m \u001b[38;5;28;01mfrom\u001b[39;00m\u001b[38;5;250m \u001b[39m\u001b[38;5;21;01msklearn\u001b[39;00m\u001b[38;5;21;01m.\u001b[39;00m\u001b[38;5;21;01mmetrics\u001b[39;00m\u001b[38;5;250m \u001b[39m\u001b[38;5;28;01mimport\u001b[39;00m mean_squared_error\n\u001b[0;32m      7\u001b[0m \u001b[38;5;66;03m# Load preprocessed data\u001b[39;00m\n",
      "\u001b[1;31mModuleNotFoundError\u001b[0m: No module named 'xgboost'"
     ]
    }
   ],
   "source": [
    "import pandas as pd\n",
    "import numpy as np\n",
    "from sklearn.model_selection import train_test_split\n",
    "import xgboost\n",
    "from sklearn.metrics import mean_squared_error\n",
    "\n",
    "# Load preprocessed data\n",
    "data = pd.read_parquet('data/processed/yellow_processed_2023.parquet')\n",
    "\n",
    "# Ensure trip_distance is not zero to avoid division by zero\n",
    "data = data[data['trip_distance'] > 0]\n",
    "\n",
    "# Split data into train and test sets\n",
    "train, test = train_test_split(data, test_size=0.3, random_state=42)\n",
    "\n",
    "# Prepare features (excluding the target column 'fare_amount')\n",
    "features = ['trip_distance', 'some_other_feature']  # Add more features if needed\n",
    "X_train = train[features]\n",
    "y_train = train['fare_amount']\n",
    "X_test = test[features]\n",
    "y_test = test['fare_amount']\n",
    "\n",
    "# Train XGBoost regressor\n",
    "model = xgboost.XGBRegressor(objective='reg:squarederror', random_state=42)\n",
    "model.fit(X_train, y_train)\n",
    "\n",
    "# Predict fares for train and test sets\n",
    "train_predictions = model.predict(X_train)\n",
    "test_predictions = model.predict(X_test)\n",
    "\n",
    "# Function to compute RMSE\n",
    "def compute_rmse(actual, predicted):\n",
    "    return np.sqrt(mean_squared_error(actual, predicted))\n",
    "\n",
    "# Function to print RMSE for train and test sets\n",
    "def print_rmse(actual, predicted, name):\n",
    "    rmse = compute_rmse(actual, predicted)\n",
    "    print(f\"{name} RMSE = {rmse:.2f}\")\n",
    "\n",
    "# Evaluate RMSE for train and test sets\n",
    "print_rmse(y_train, train_predictions, 'Train')\n",
    "print_rmse(y_test, test_predictions, 'Test')\n",
    "\n",
    "# Save the model for future use\n",
    "model.save_model('fare_rate_predictor_model.json')\n",
    "\n",
    "# Save the updated dataset with predictions (optional)\n",
    "data['predicted_fare'] = model.predict(data[features])\n",
    "data.to_parquet('data/processed/yellow_processed_2023_with_predictions.parquet')\n"
   ]
  }
 ],
 "metadata": {
  "kernelspec": {
   "display_name": "nyc-venv",
   "language": "python",
   "name": "python3"
  },
  "language_info": {
   "codemirror_mode": {
    "name": "ipython",
    "version": 3
   },
   "file_extension": ".py",
   "mimetype": "text/x-python",
   "name": "python",
   "nbconvert_exporter": "python",
   "pygments_lexer": "ipython3",
   "version": "3.8.0"
  }
 },
 "nbformat": 4,
 "nbformat_minor": 2
}
